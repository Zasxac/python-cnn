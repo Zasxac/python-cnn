{
 "cells": [
  {
   "cell_type": "code",
   "execution_count": 1,
   "metadata": {},
   "outputs": [],
   "source": [
    "import numpy as np\n",
    "import matplotlib\n",
    "import matplotlib.pyplot as plt\n",
    "%matplotlib inline\n",
    "import tensorflow as tf\n",
    "import cv2\n",
    "import os\n",
    "from keras.utils import to_categorical\n",
    "from keras.optimizers import Adam\n",
    "from keras.preprocessing.image import ImageDataGenerator\n",
    "import keras\n",
    "from sklearn.metrics import confusion_matrix,ConfusionMatrixDisplay\n",
    "import matplotlib.pyplot as plt"
   ]
  },
  {
   "cell_type": "code",
   "execution_count": 2,
   "metadata": {},
   "outputs": [
    {
     "name": "stdout",
     "output_type": "stream",
     "text": [
      "Found 19552 images belonging to 19 classes.\n",
      "Found 19552 images belonging to 19 classes.\n"
     ]
    }
   ],
   "source": [
    "path = \"C:\\\\Users\\\\monke\\\\Downloads\\\\python cnn\\\\\"\n",
    "    \n",
    "train_datagen = ImageDataGenerator(rescale = 1./255,\n",
    "                                   shear_range = 0.2,\n",
    "                                   zoom_range = 0.2,\n",
    "                                   horizontal_flip = True)\n",
    "\n",
    "training_set = train_datagen.flow_from_directory(path + 'train19',\n",
    "                                                 target_size = (128, 128),\n",
    "                                                 batch_size = 64,\n",
    "                                                 class_mode = 'categorical')\n",
    "test_datagen = ImageDataGenerator(rescale = 1./255)\n",
    "test_set = test_datagen.flow_from_directory(path + 'test19',\n",
    "                                            target_size = (128, 128),\n",
    "                                            batch_size = 64,\n",
    "                                            class_mode = 'categorical')"
   ]
  },
  {
   "cell_type": "code",
   "execution_count": 3,
   "metadata": {},
   "outputs": [
    {
     "name": "stdout",
     "output_type": "stream",
     "text": [
      "Building Neural Network.....\n",
      "Training cnn.....\n",
      "Model: \"sequential\"\n",
      "_________________________________________________________________\n",
      " Layer (type)                Output Shape              Param #   \n",
      "=================================================================\n",
      " conv2d (Conv2D)             (None, 128, 128, 16)      448       \n",
      "                                                                 \n",
      " max_pooling2d (MaxPooling2D  (None, 64, 64, 16)       0         \n",
      " )                                                               \n",
      "                                                                 \n",
      " conv2d_1 (Conv2D)           (None, 64, 64, 32)        4640      \n",
      "                                                                 \n",
      " max_pooling2d_1 (MaxPooling  (None, 32, 32, 32)       0         \n",
      " 2D)                                                             \n",
      "                                                                 \n",
      " conv2d_2 (Conv2D)           (None, 32, 32, 64)        18496     \n",
      "                                                                 \n",
      " max_pooling2d_2 (MaxPooling  (None, 16, 16, 64)       0         \n",
      " 2D)                                                             \n",
      "                                                                 \n",
      " conv2d_3 (Conv2D)           (None, 16, 16, 128)       73856     \n",
      "                                                                 \n",
      " max_pooling2d_3 (MaxPooling  (None, 8, 8, 128)        0         \n",
      " 2D)                                                             \n",
      "                                                                 \n",
      " conv2d_4 (Conv2D)           (None, 8, 8, 256)         295168    \n",
      "                                                                 \n",
      " flatten (Flatten)           (None, 16384)             0         \n",
      "                                                                 \n",
      " dense (Dense)               (None, 128)               2097280   \n",
      "                                                                 \n",
      " dense_1 (Dense)             (None, 19)                2451      \n",
      "                                                                 \n",
      "=================================================================\n",
      "Total params: 2,492,339\n",
      "Trainable params: 2,492,339\n",
      "Non-trainable params: 0\n",
      "_________________________________________________________________\n",
      "None\n"
     ]
    }
   ],
   "source": [
    "\n",
    "cnn = tf.keras.models.Sequential()\n",
    "print(\"Building Neural Network.....\")\n",
    "cnn.add(tf.keras.layers.Conv2D(filters=16, kernel_size=(3,3), padding=\"same\", activation='tanh', input_shape=[128, 128, 3]))\n",
    "cnn.add(tf.keras.layers.MaxPooling2D(pool_size=2, strides=2,padding=\"same\"))\n",
    "cnn.add(tf.keras.layers.Conv2D(filters=32, kernel_size=(3,3), padding=\"same\", activation='tanh'))\n",
    "cnn.add(tf.keras.layers.MaxPooling2D(pool_size=2, strides=2, padding=\"same\"))\n",
    "cnn.add(tf.keras.layers.Conv2D(filters=64, kernel_size=(3,3), padding=\"same\", activation='tanh'))\n",
    "cnn.add(tf.keras.layers.MaxPooling2D(pool_size=2, strides=2, padding=\"same\"))\n",
    "cnn.add(tf.keras.layers.Conv2D(filters=128, kernel_size=(3,3), padding=\"same\", activation='tanh'))\n",
    "cnn.add(tf.keras.layers.MaxPooling2D(pool_size=2, strides=2, padding=\"same\"))\n",
    "cnn.add(tf.keras.layers.Conv2D(filters=256, kernel_size=(3,3), padding=\"same\", activation='tanh'))\n",
    "cnn.add(tf.keras.layers.Flatten())\n",
    "cnn.add(tf.keras.layers.Dense(units=128, activation='tanh'))\n",
    "cnn.add(tf.keras.layers.Dense(units=9, activation='softmax'))\n",
    "    \n",
    "print(\"Training cnn.....\")\n",
    "cnn.compile(optimizer = 'adam', loss = 'categorical_crossentropy', metrics = ['accuracy'])\n",
    "print(cnn.summary())"
   ]
  },
  {
   "cell_type": "code",
   "execution_count": 13,
   "metadata": {},
   "outputs": [
    {
     "name": "stdout",
     "output_type": "stream",
     "text": [
      "Epoch 1/200\n",
      "167/167 [==============================] - 238s 1s/step - loss: 1.9153 - accuracy: 0.3073 - val_loss: 1.7402 - val_accuracy: 0.3968\n",
      "Epoch 2/200\n",
      "167/167 [==============================] - 142s 847ms/step - loss: 1.5718 - accuracy: 0.4398 - val_loss: 1.4943 - val_accuracy: 0.4746\n",
      "Epoch 3/200\n",
      "167/167 [==============================] - 142s 852ms/step - loss: 1.3803 - accuracy: 0.5255 - val_loss: 1.2159 - val_accuracy: 0.5869\n",
      "Epoch 4/200\n",
      "167/167 [==============================] - 150s 897ms/step - loss: 1.2180 - accuracy: 0.5843 - val_loss: 1.0919 - val_accuracy: 0.6267\n",
      "Epoch 5/200\n",
      "167/167 [==============================] - 156s 935ms/step - loss: 1.1128 - accuracy: 0.6186 - val_loss: 0.9758 - val_accuracy: 0.6651\n",
      "Epoch 6/200\n",
      "167/167 [==============================] - 142s 851ms/step - loss: 1.0003 - accuracy: 0.6607 - val_loss: 0.8580 - val_accuracy: 0.7079\n",
      "Epoch 7/200\n",
      "167/167 [==============================] - 139s 833ms/step - loss: 0.9136 - accuracy: 0.6920 - val_loss: 0.7779 - val_accuracy: 0.7427\n",
      "Epoch 8/200\n",
      "167/167 [==============================] - 147s 882ms/step - loss: 0.8707 - accuracy: 0.7037 - val_loss: 0.7620 - val_accuracy: 0.7414\n",
      "Epoch 9/200\n",
      "167/167 [==============================] - 142s 847ms/step - loss: 0.7967 - accuracy: 0.7311 - val_loss: 0.6744 - val_accuracy: 0.7769\n",
      "Epoch 10/200\n",
      "167/167 [==============================] - 136s 817ms/step - loss: 0.7362 - accuracy: 0.7536 - val_loss: 0.6488 - val_accuracy: 0.7822\n",
      "Epoch 11/200\n",
      "167/167 [==============================] - 137s 818ms/step - loss: 0.6772 - accuracy: 0.7699 - val_loss: 0.6093 - val_accuracy: 0.7875\n",
      "Epoch 12/200\n",
      "167/167 [==============================] - 137s 822ms/step - loss: 0.6395 - accuracy: 0.7844 - val_loss: 0.6055 - val_accuracy: 0.7980\n",
      "Epoch 13/200\n",
      "167/167 [==============================] - 137s 818ms/step - loss: 0.6073 - accuracy: 0.7938 - val_loss: 0.5132 - val_accuracy: 0.8297\n",
      "Epoch 14/200\n",
      "167/167 [==============================] - 141s 847ms/step - loss: 0.5774 - accuracy: 0.8045 - val_loss: 0.4776 - val_accuracy: 0.8400\n",
      "Epoch 15/200\n",
      "167/167 [==============================] - 141s 846ms/step - loss: 0.5127 - accuracy: 0.8249 - val_loss: 0.4137 - val_accuracy: 0.8604\n",
      "Epoch 16/200\n",
      "167/167 [==============================] - 140s 835ms/step - loss: 0.4872 - accuracy: 0.8330 - val_loss: 0.4556 - val_accuracy: 0.8448\n",
      "Epoch 17/200\n",
      "167/167 [==============================] - 139s 834ms/step - loss: 0.4504 - accuracy: 0.8473 - val_loss: 0.4090 - val_accuracy: 0.8630\n",
      "Epoch 18/200\n",
      "167/167 [==============================] - 136s 815ms/step - loss: 0.4239 - accuracy: 0.8537 - val_loss: 0.3583 - val_accuracy: 0.8830\n",
      "Epoch 19/200\n",
      "167/167 [==============================] - 140s 836ms/step - loss: 0.4120 - accuracy: 0.8596 - val_loss: 0.2924 - val_accuracy: 0.9055\n",
      "Epoch 20/200\n",
      "167/167 [==============================] - 144s 860ms/step - loss: 0.3558 - accuracy: 0.8795 - val_loss: 0.3372 - val_accuracy: 0.8924\n",
      "Epoch 21/200\n",
      "167/167 [==============================] - 134s 801ms/step - loss: 0.3343 - accuracy: 0.8861 - val_loss: 0.2886 - val_accuracy: 0.9017\n",
      "Epoch 22/200\n",
      "167/167 [==============================] - 133s 797ms/step - loss: 0.3230 - accuracy: 0.8883 - val_loss: 0.2714 - val_accuracy: 0.9157\n",
      "Epoch 23/200\n",
      "167/167 [==============================] - 136s 814ms/step - loss: 0.3177 - accuracy: 0.8928 - val_loss: 0.2335 - val_accuracy: 0.9217\n",
      "Epoch 24/200\n",
      "167/167 [==============================] - 136s 816ms/step - loss: 0.2903 - accuracy: 0.9031 - val_loss: 0.2772 - val_accuracy: 0.9082\n",
      "Epoch 25/200\n",
      "167/167 [==============================] - 142s 850ms/step - loss: 0.2829 - accuracy: 0.9062 - val_loss: 0.2856 - val_accuracy: 0.9022\n",
      "Epoch 26/200\n",
      "167/167 [==============================] - 138s 825ms/step - loss: 0.2589 - accuracy: 0.9120 - val_loss: 0.2026 - val_accuracy: 0.9349\n",
      "Epoch 27/200\n",
      "167/167 [==============================] - 134s 805ms/step - loss: 0.2551 - accuracy: 0.9146 - val_loss: 0.2190 - val_accuracy: 0.9281\n",
      "Epoch 28/200\n",
      "167/167 [==============================] - 137s 822ms/step - loss: 0.2395 - accuracy: 0.9207 - val_loss: 0.1647 - val_accuracy: 0.9487\n",
      "Epoch 29/200\n",
      "167/167 [==============================] - 136s 814ms/step - loss: 0.2152 - accuracy: 0.9257 - val_loss: 0.3992 - val_accuracy: 0.8713\n",
      "Epoch 30/200\n",
      "167/167 [==============================] - 134s 805ms/step - loss: 0.2228 - accuracy: 0.9253 - val_loss: 0.1721 - val_accuracy: 0.9431\n",
      "Epoch 31/200\n",
      "167/167 [==============================] - 135s 808ms/step - loss: 0.2088 - accuracy: 0.9282 - val_loss: 0.1760 - val_accuracy: 0.9393\n",
      "Epoch 32/200\n",
      "167/167 [==============================] - 135s 809ms/step - loss: 0.1985 - accuracy: 0.9349 - val_loss: 0.1376 - val_accuracy: 0.9544\n",
      "Epoch 33/200\n",
      "167/167 [==============================] - 135s 807ms/step - loss: 0.1798 - accuracy: 0.9375 - val_loss: 0.1745 - val_accuracy: 0.9427\n",
      "Epoch 34/200\n",
      "167/167 [==============================] - 139s 835ms/step - loss: 0.1692 - accuracy: 0.9422 - val_loss: 0.1055 - val_accuracy: 0.9657\n",
      "Epoch 35/200\n",
      "167/167 [==============================] - 143s 856ms/step - loss: 0.1703 - accuracy: 0.9417 - val_loss: 0.1308 - val_accuracy: 0.9532\n",
      "Epoch 36/200\n",
      "167/167 [==============================] - 135s 809ms/step - loss: 0.1705 - accuracy: 0.9423 - val_loss: 0.0940 - val_accuracy: 0.9690\n",
      "Epoch 37/200\n",
      "167/167 [==============================] - 136s 813ms/step - loss: 0.1664 - accuracy: 0.9444 - val_loss: 0.0837 - val_accuracy: 0.9725\n",
      "Epoch 38/200\n",
      "167/167 [==============================] - 138s 825ms/step - loss: 0.1420 - accuracy: 0.9511 - val_loss: 0.1092 - val_accuracy: 0.9620\n",
      "Epoch 39/200\n",
      "167/167 [==============================] - 136s 815ms/step - loss: 0.1566 - accuracy: 0.9482 - val_loss: 0.2010 - val_accuracy: 0.9359\n",
      "Epoch 40/200\n",
      "167/167 [==============================] - 136s 813ms/step - loss: 0.1417 - accuracy: 0.9507 - val_loss: 0.0908 - val_accuracy: 0.9713\n",
      "Epoch 41/200\n",
      "167/167 [==============================] - 135s 806ms/step - loss: 0.1083 - accuracy: 0.9638 - val_loss: 0.1551 - val_accuracy: 0.9499\n",
      "Epoch 42/200\n",
      "167/167 [==============================] - 135s 806ms/step - loss: 0.1387 - accuracy: 0.9506 - val_loss: 0.0669 - val_accuracy: 0.9782\n",
      "Epoch 43/200\n",
      "167/167 [==============================] - 137s 822ms/step - loss: 0.1178 - accuracy: 0.9620 - val_loss: 0.1156 - val_accuracy: 0.9618\n",
      "Epoch 44/200\n",
      "167/167 [==============================] - 136s 812ms/step - loss: 0.0950 - accuracy: 0.9682 - val_loss: 0.1609 - val_accuracy: 0.9482\n",
      "Epoch 45/200\n",
      "167/167 [==============================] - 136s 816ms/step - loss: 0.1376 - accuracy: 0.9531 - val_loss: 0.0992 - val_accuracy: 0.9680\n",
      "Epoch 46/200\n",
      "167/167 [==============================] - 135s 806ms/step - loss: 0.0999 - accuracy: 0.9668 - val_loss: 0.0787 - val_accuracy: 0.9728\n",
      "Epoch 47/200\n",
      "167/167 [==============================] - 134s 805ms/step - loss: 0.1178 - accuracy: 0.9624 - val_loss: 0.1100 - val_accuracy: 0.9625\n",
      "Epoch 48/200\n",
      "167/167 [==============================] - 134s 801ms/step - loss: 0.1309 - accuracy: 0.9569 - val_loss: 0.0923 - val_accuracy: 0.9703\n",
      "Epoch 49/200\n",
      "167/167 [==============================] - 134s 802ms/step - loss: 0.1108 - accuracy: 0.9623 - val_loss: 0.0791 - val_accuracy: 0.9752\n",
      "Epoch 50/200\n",
      "167/167 [==============================] - 135s 806ms/step - loss: 0.0942 - accuracy: 0.9669 - val_loss: 0.0881 - val_accuracy: 0.9716\n",
      "Epoch 51/200\n",
      "167/167 [==============================] - 135s 806ms/step - loss: 0.1296 - accuracy: 0.9566 - val_loss: 0.0721 - val_accuracy: 0.9762\n",
      "Epoch 52/200\n",
      "167/167 [==============================] - 135s 809ms/step - loss: 0.0969 - accuracy: 0.9668 - val_loss: 0.0924 - val_accuracy: 0.9692\n",
      "Epoch 53/200\n",
      "167/167 [==============================] - 135s 808ms/step - loss: 0.0940 - accuracy: 0.9672 - val_loss: 0.1373 - val_accuracy: 0.9599\n",
      "Epoch 54/200\n",
      "167/167 [==============================] - 134s 802ms/step - loss: 0.1098 - accuracy: 0.9633 - val_loss: 0.0607 - val_accuracy: 0.9797\n",
      "Epoch 55/200\n",
      "167/167 [==============================] - 134s 802ms/step - loss: 0.0959 - accuracy: 0.9692 - val_loss: 0.0798 - val_accuracy: 0.9752\n",
      "Epoch 56/200\n",
      "167/167 [==============================] - 135s 809ms/step - loss: 0.1053 - accuracy: 0.9645 - val_loss: 0.0942 - val_accuracy: 0.9699\n",
      "Epoch 57/200\n",
      "167/167 [==============================] - 137s 823ms/step - loss: 0.0752 - accuracy: 0.9762 - val_loss: 0.0578 - val_accuracy: 0.9799\n",
      "Epoch 58/200\n",
      "167/167 [==============================] - 138s 824ms/step - loss: 0.0929 - accuracy: 0.9692 - val_loss: 0.0494 - val_accuracy: 0.9842\n",
      "Epoch 59/200\n",
      "167/167 [==============================] - 136s 815ms/step - loss: 0.0843 - accuracy: 0.9704 - val_loss: 0.0600 - val_accuracy: 0.9799\n",
      "Epoch 60/200\n",
      "167/167 [==============================] - 138s 826ms/step - loss: 0.1329 - accuracy: 0.9578 - val_loss: 0.0558 - val_accuracy: 0.9829\n",
      "Epoch 61/200\n",
      "167/167 [==============================] - 146s 876ms/step - loss: 0.0807 - accuracy: 0.9740 - val_loss: 0.0472 - val_accuracy: 0.9831\n",
      "Epoch 62/200\n",
      "167/167 [==============================] - 138s 823ms/step - loss: 0.0793 - accuracy: 0.9732 - val_loss: 0.1869 - val_accuracy: 0.9430\n",
      "Epoch 63/200\n",
      "167/167 [==============================] - 137s 818ms/step - loss: 0.0841 - accuracy: 0.9734 - val_loss: 0.0630 - val_accuracy: 0.9779\n",
      "Epoch 64/200\n",
      "167/167 [==============================] - 139s 831ms/step - loss: 0.0702 - accuracy: 0.9770 - val_loss: 0.0719 - val_accuracy: 0.9752\n",
      "Epoch 65/200\n",
      "167/167 [==============================] - 137s 821ms/step - loss: 0.0907 - accuracy: 0.9707 - val_loss: 0.0452 - val_accuracy: 0.9841\n",
      "Epoch 66/200\n",
      "167/167 [==============================] - 138s 824ms/step - loss: 0.0699 - accuracy: 0.9764 - val_loss: 0.0417 - val_accuracy: 0.9874\n",
      "Epoch 67/200\n",
      "167/167 [==============================] - 137s 823ms/step - loss: 0.0727 - accuracy: 0.9769 - val_loss: 0.0278 - val_accuracy: 0.9914\n",
      "Epoch 68/200\n",
      "167/167 [==============================] - 135s 811ms/step - loss: 0.0762 - accuracy: 0.9751 - val_loss: 0.0419 - val_accuracy: 0.9857\n",
      "Epoch 69/200\n",
      "167/167 [==============================] - 138s 827ms/step - loss: 0.0697 - accuracy: 0.9781 - val_loss: 0.0625 - val_accuracy: 0.9802\n",
      "Epoch 70/200\n",
      "167/167 [==============================] - 135s 810ms/step - loss: 0.1094 - accuracy: 0.9660 - val_loss: 0.0422 - val_accuracy: 0.9859\n",
      "Epoch 71/200\n",
      "167/167 [==============================] - 137s 818ms/step - loss: 0.0734 - accuracy: 0.9753 - val_loss: 0.0310 - val_accuracy: 0.9903\n",
      "Epoch 72/200\n",
      "167/167 [==============================] - 136s 812ms/step - loss: 0.0755 - accuracy: 0.9759 - val_loss: 0.0523 - val_accuracy: 0.9825\n",
      "Epoch 73/200\n",
      "167/167 [==============================] - 136s 813ms/step - loss: 0.0573 - accuracy: 0.9819 - val_loss: 0.0495 - val_accuracy: 0.9836\n",
      "Epoch 74/200\n",
      "167/167 [==============================] - 135s 806ms/step - loss: 0.0828 - accuracy: 0.9734 - val_loss: 0.0839 - val_accuracy: 0.9741\n",
      "Epoch 75/200\n",
      "167/167 [==============================] - 136s 812ms/step - loss: 0.0687 - accuracy: 0.9782 - val_loss: 0.0553 - val_accuracy: 0.9825\n",
      "Epoch 76/200\n",
      "167/167 [==============================] - 136s 813ms/step - loss: 0.0964 - accuracy: 0.9686 - val_loss: 0.0595 - val_accuracy: 0.9813\n",
      "Epoch 77/200\n",
      "167/167 [==============================] - 135s 812ms/step - loss: 0.0768 - accuracy: 0.9744 - val_loss: 0.0523 - val_accuracy: 0.9841\n",
      "Epoch 78/200\n",
      "167/167 [==============================] - 138s 823ms/step - loss: 0.0890 - accuracy: 0.9726 - val_loss: 0.0688 - val_accuracy: 0.9776\n",
      "Epoch 79/200\n",
      "167/167 [==============================] - 136s 814ms/step - loss: 0.0637 - accuracy: 0.9794 - val_loss: 0.0330 - val_accuracy: 0.9896\n",
      "Epoch 80/200\n",
      "167/167 [==============================] - 136s 815ms/step - loss: 0.0632 - accuracy: 0.9794 - val_loss: 0.0337 - val_accuracy: 0.9899\n",
      "Epoch 81/200\n",
      "167/167 [==============================] - 137s 819ms/step - loss: 0.0508 - accuracy: 0.9835 - val_loss: 0.0543 - val_accuracy: 0.9832\n",
      "Epoch 82/200\n",
      "167/167 [==============================] - 136s 817ms/step - loss: 0.0772 - accuracy: 0.9749 - val_loss: 0.0634 - val_accuracy: 0.9801\n",
      "Epoch 83/200\n",
      "167/167 [==============================] - 137s 820ms/step - loss: 0.0890 - accuracy: 0.9718 - val_loss: 0.0627 - val_accuracy: 0.9785\n",
      "Epoch 84/200\n",
      "167/167 [==============================] - 137s 821ms/step - loss: 0.0744 - accuracy: 0.9765 - val_loss: 0.0432 - val_accuracy: 0.9859\n",
      "Epoch 85/200\n",
      "167/167 [==============================] - 137s 822ms/step - loss: 0.0685 - accuracy: 0.9777 - val_loss: 0.0488 - val_accuracy: 0.9828\n",
      "Epoch 86/200\n",
      "167/167 [==============================] - 136s 815ms/step - loss: 0.0873 - accuracy: 0.9723 - val_loss: 0.0391 - val_accuracy: 0.9877\n",
      "Epoch 87/200\n",
      "167/167 [==============================] - 146s 876ms/step - loss: 0.0735 - accuracy: 0.9771 - val_loss: 0.0255 - val_accuracy: 0.9909\n",
      "Epoch 88/200\n",
      "167/167 [==============================] - 141s 844ms/step - loss: 0.0520 - accuracy: 0.9826 - val_loss: 0.0313 - val_accuracy: 0.9892\n",
      "Epoch 89/200\n",
      "167/167 [==============================] - 136s 811ms/step - loss: 0.0586 - accuracy: 0.9811 - val_loss: 0.0316 - val_accuracy: 0.9901\n",
      "Epoch 90/200\n",
      "167/167 [==============================] - 136s 815ms/step - loss: 0.0818 - accuracy: 0.9743 - val_loss: 0.0987 - val_accuracy: 0.9682\n",
      "Epoch 91/200\n",
      "167/167 [==============================] - 136s 817ms/step - loss: 0.0612 - accuracy: 0.9803 - val_loss: 0.0360 - val_accuracy: 0.9887\n",
      "Epoch 92/200\n",
      "167/167 [==============================] - 136s 813ms/step - loss: 0.0682 - accuracy: 0.9792 - val_loss: 0.0329 - val_accuracy: 0.9905\n",
      "Epoch 93/200\n",
      "167/167 [==============================] - 136s 815ms/step - loss: 0.0578 - accuracy: 0.9810 - val_loss: 0.0244 - val_accuracy: 0.9925\n",
      "Epoch 94/200\n",
      "167/167 [==============================] - 136s 812ms/step - loss: 0.0673 - accuracy: 0.9774 - val_loss: 0.0488 - val_accuracy: 0.9835\n",
      "Epoch 95/200\n",
      "167/167 [==============================] - 138s 826ms/step - loss: 0.0593 - accuracy: 0.9808 - val_loss: 0.0241 - val_accuracy: 0.9925\n",
      "Epoch 96/200\n",
      "167/167 [==============================] - 136s 814ms/step - loss: 0.0720 - accuracy: 0.9761 - val_loss: 0.0288 - val_accuracy: 0.9901\n",
      "Epoch 97/200\n",
      "167/167 [==============================] - 136s 816ms/step - loss: 0.0753 - accuracy: 0.9752 - val_loss: 0.0682 - val_accuracy: 0.9791\n",
      "Epoch 98/200\n",
      "167/167 [==============================] - 136s 813ms/step - loss: 0.0730 - accuracy: 0.9763 - val_loss: 0.0292 - val_accuracy: 0.9911\n",
      "Epoch 99/200\n",
      "167/167 [==============================] - 136s 815ms/step - loss: 0.0634 - accuracy: 0.9794 - val_loss: 0.0187 - val_accuracy: 0.9942\n",
      "Epoch 100/200\n",
      "167/167 [==============================] - 135s 809ms/step - loss: 0.0472 - accuracy: 0.9865 - val_loss: 0.0519 - val_accuracy: 0.9836\n",
      "Epoch 101/200\n",
      "167/167 [==============================] - 135s 808ms/step - loss: 0.0615 - accuracy: 0.9807 - val_loss: 0.0735 - val_accuracy: 0.9774\n",
      "Epoch 102/200\n",
      "167/167 [==============================] - 135s 806ms/step - loss: 0.0659 - accuracy: 0.9806 - val_loss: 0.0192 - val_accuracy: 0.9939\n",
      "Epoch 103/200\n",
      "167/167 [==============================] - 135s 809ms/step - loss: 0.0584 - accuracy: 0.9823 - val_loss: 0.0235 - val_accuracy: 0.9918\n",
      "Epoch 104/200\n",
      "167/167 [==============================] - 136s 813ms/step - loss: 0.0535 - accuracy: 0.9836 - val_loss: 0.1004 - val_accuracy: 0.9718\n",
      "Epoch 105/200\n",
      "167/167 [==============================] - 136s 812ms/step - loss: 0.0771 - accuracy: 0.9746 - val_loss: 0.0273 - val_accuracy: 0.9909\n",
      "Epoch 106/200\n",
      "167/167 [==============================] - 136s 814ms/step - loss: 0.0402 - accuracy: 0.9870 - val_loss: 0.0476 - val_accuracy: 0.9838\n",
      "Epoch 107/200\n",
      "167/167 [==============================] - 135s 811ms/step - loss: 0.0773 - accuracy: 0.9770 - val_loss: 0.2534 - val_accuracy: 0.9500\n",
      "Epoch 108/200\n",
      "167/167 [==============================] - 136s 814ms/step - loss: 0.0854 - accuracy: 0.9737 - val_loss: 0.0228 - val_accuracy: 0.9932\n",
      "Epoch 109/200\n",
      "167/167 [==============================] - 136s 813ms/step - loss: 0.0441 - accuracy: 0.9867 - val_loss: 0.0476 - val_accuracy: 0.9840\n",
      "Epoch 110/200\n",
      "167/167 [==============================] - 136s 816ms/step - loss: 0.0583 - accuracy: 0.9815 - val_loss: 0.0393 - val_accuracy: 0.9876\n",
      "Epoch 111/200\n",
      "167/167 [==============================] - 137s 819ms/step - loss: 0.0470 - accuracy: 0.9861 - val_loss: 0.0232 - val_accuracy: 0.9929\n",
      "Epoch 112/200\n",
      "167/167 [==============================] - 136s 813ms/step - loss: 0.0421 - accuracy: 0.9858 - val_loss: 0.0688 - val_accuracy: 0.9804\n",
      "Epoch 113/200\n",
      "167/167 [==============================] - 135s 808ms/step - loss: 0.0558 - accuracy: 0.9832 - val_loss: 0.0462 - val_accuracy: 0.9846\n",
      "Epoch 114/200\n",
      "167/167 [==============================] - 151s 905ms/step - loss: 0.0629 - accuracy: 0.9794 - val_loss: 0.0310 - val_accuracy: 0.9907\n",
      "Epoch 115/200\n",
      "167/167 [==============================] - 137s 821ms/step - loss: 0.0721 - accuracy: 0.9782 - val_loss: 0.0252 - val_accuracy: 0.9917\n",
      "Epoch 116/200\n",
      "167/167 [==============================] - 137s 819ms/step - loss: 0.0571 - accuracy: 0.9814 - val_loss: 0.0369 - val_accuracy: 0.9873\n",
      "Epoch 117/200\n",
      "167/167 [==============================] - 137s 819ms/step - loss: 0.0404 - accuracy: 0.9874 - val_loss: 0.0250 - val_accuracy: 0.9919\n",
      "Epoch 118/200\n",
      "167/167 [==============================] - 137s 818ms/step - loss: 0.0443 - accuracy: 0.9870 - val_loss: 0.0260 - val_accuracy: 0.9918\n",
      "Epoch 119/200\n",
      "167/167 [==============================] - 137s 818ms/step - loss: 0.0559 - accuracy: 0.9822 - val_loss: 0.0311 - val_accuracy: 0.9903\n",
      "Epoch 120/200\n",
      "167/167 [==============================] - 137s 818ms/step - loss: 0.0594 - accuracy: 0.9810 - val_loss: 0.0290 - val_accuracy: 0.9908\n",
      "Epoch 121/200\n",
      "167/167 [==============================] - 140s 836ms/step - loss: 0.0501 - accuracy: 0.9847 - val_loss: 0.0233 - val_accuracy: 0.9919\n",
      "Epoch 122/200\n",
      "167/167 [==============================] - 135s 811ms/step - loss: 0.0558 - accuracy: 0.9834 - val_loss: 0.0590 - val_accuracy: 0.9841\n",
      "Epoch 123/200\n",
      "167/167 [==============================] - 136s 816ms/step - loss: 0.0568 - accuracy: 0.9815 - val_loss: 0.0547 - val_accuracy: 0.9840\n",
      "Epoch 124/200\n",
      "167/167 [==============================] - 136s 817ms/step - loss: 0.0534 - accuracy: 0.9835 - val_loss: 0.0624 - val_accuracy: 0.9829\n",
      "Epoch 125/200\n",
      "167/167 [==============================] - 136s 813ms/step - loss: 0.0543 - accuracy: 0.9818 - val_loss: 0.0226 - val_accuracy: 0.9920\n",
      "Epoch 126/200\n",
      "167/167 [==============================] - 137s 817ms/step - loss: 0.0400 - accuracy: 0.9878 - val_loss: 0.0415 - val_accuracy: 0.9856\n",
      "Epoch 127/200\n",
      "167/167 [==============================] - 136s 814ms/step - loss: 0.0608 - accuracy: 0.9820 - val_loss: 0.0682 - val_accuracy: 0.9792\n",
      "Epoch 128/200\n",
      "167/167 [==============================] - 136s 814ms/step - loss: 0.0623 - accuracy: 0.9809 - val_loss: 0.0320 - val_accuracy: 0.9911\n",
      "Epoch 129/200\n",
      "167/167 [==============================] - 136s 816ms/step - loss: 0.0602 - accuracy: 0.9811 - val_loss: 0.0271 - val_accuracy: 0.9906\n",
      "Epoch 130/200\n",
      "167/167 [==============================] - 137s 818ms/step - loss: 0.0383 - accuracy: 0.9873 - val_loss: 0.0564 - val_accuracy: 0.9820\n",
      "Epoch 131/200\n",
      "167/167 [==============================] - 136s 816ms/step - loss: 0.0613 - accuracy: 0.9813 - val_loss: 0.0333 - val_accuracy: 0.9907\n",
      "Epoch 132/200\n",
      "167/167 [==============================] - 136s 815ms/step - loss: 0.0473 - accuracy: 0.9842 - val_loss: 0.0904 - val_accuracy: 0.9743\n",
      "Epoch 133/200\n",
      "167/167 [==============================] - 136s 815ms/step - loss: 0.0570 - accuracy: 0.9831 - val_loss: 0.0260 - val_accuracy: 0.9920\n",
      "Epoch 134/200\n",
      "167/167 [==============================] - 135s 811ms/step - loss: 0.0517 - accuracy: 0.9830 - val_loss: 0.0418 - val_accuracy: 0.9878\n",
      "Epoch 135/200\n",
      "167/167 [==============================] - 142s 848ms/step - loss: 0.0391 - accuracy: 0.9875 - val_loss: 0.0347 - val_accuracy: 0.9892\n",
      "Epoch 136/200\n",
      "167/167 [==============================] - 137s 822ms/step - loss: 0.0567 - accuracy: 0.9829 - val_loss: 0.0260 - val_accuracy: 0.9906\n",
      "Epoch 137/200\n",
      "167/167 [==============================] - 138s 823ms/step - loss: 0.0376 - accuracy: 0.9878 - val_loss: 0.0171 - val_accuracy: 0.9949\n",
      "Epoch 138/200\n",
      "167/167 [==============================] - 137s 820ms/step - loss: 0.0517 - accuracy: 0.9833 - val_loss: 0.0245 - val_accuracy: 0.9925\n",
      "Epoch 139/200\n",
      "167/167 [==============================] - 137s 818ms/step - loss: 0.0515 - accuracy: 0.9832 - val_loss: 0.0388 - val_accuracy: 0.9879\n",
      "Epoch 140/200\n",
      "167/167 [==============================] - 150s 901ms/step - loss: 0.0677 - accuracy: 0.9804 - val_loss: 0.0783 - val_accuracy: 0.9813\n",
      "Epoch 141/200\n",
      "167/167 [==============================] - 139s 830ms/step - loss: 0.0483 - accuracy: 0.9854 - val_loss: 0.0775 - val_accuracy: 0.9761\n",
      "Epoch 142/200\n",
      "167/167 [==============================] - 136s 814ms/step - loss: 0.0644 - accuracy: 0.9801 - val_loss: 0.0515 - val_accuracy: 0.9823\n",
      "Epoch 143/200\n",
      "167/167 [==============================] - 136s 814ms/step - loss: 0.0418 - accuracy: 0.9869 - val_loss: 0.0254 - val_accuracy: 0.9923\n",
      "Epoch 144/200\n",
      "167/167 [==============================] - 136s 815ms/step - loss: 0.0328 - accuracy: 0.9886 - val_loss: 0.0231 - val_accuracy: 0.9923\n",
      "Epoch 145/200\n",
      "167/167 [==============================] - 136s 815ms/step - loss: 0.0539 - accuracy: 0.9821 - val_loss: 0.0426 - val_accuracy: 0.9874\n",
      "Epoch 146/200\n",
      "167/167 [==============================] - 137s 818ms/step - loss: 0.0687 - accuracy: 0.9804 - val_loss: 0.0629 - val_accuracy: 0.9812\n",
      "Epoch 147/200\n",
      "167/167 [==============================] - 136s 814ms/step - loss: 0.0461 - accuracy: 0.9854 - val_loss: 0.0394 - val_accuracy: 0.9877\n",
      "Epoch 148/200\n",
      "167/167 [==============================] - 135s 811ms/step - loss: 0.0522 - accuracy: 0.9837 - val_loss: 0.0140 - val_accuracy: 0.9950\n",
      "Epoch 149/200\n",
      "167/167 [==============================] - 135s 811ms/step - loss: 0.0370 - accuracy: 0.9878 - val_loss: 0.0329 - val_accuracy: 0.9895\n",
      "Epoch 150/200\n",
      "167/167 [==============================] - 137s 818ms/step - loss: 0.0432 - accuracy: 0.9865 - val_loss: 0.0316 - val_accuracy: 0.9901\n",
      "Epoch 151/200\n",
      "167/167 [==============================] - 137s 817ms/step - loss: 0.0570 - accuracy: 0.9815 - val_loss: 0.0295 - val_accuracy: 0.9913\n",
      "Epoch 152/200\n",
      "167/167 [==============================] - 136s 814ms/step - loss: 0.0559 - accuracy: 0.9832 - val_loss: 0.0156 - val_accuracy: 0.9946\n",
      "Epoch 153/200\n",
      "167/167 [==============================] - 137s 821ms/step - loss: 0.0384 - accuracy: 0.9889 - val_loss: 0.0269 - val_accuracy: 0.9913\n",
      "Epoch 154/200\n",
      "167/167 [==============================] - 138s 828ms/step - loss: 0.0576 - accuracy: 0.9822 - val_loss: 0.0349 - val_accuracy: 0.9888\n",
      "Epoch 155/200\n",
      "167/167 [==============================] - 141s 845ms/step - loss: 0.0393 - accuracy: 0.9885 - val_loss: 0.0392 - val_accuracy: 0.9884\n",
      "Epoch 156/200\n",
      "167/167 [==============================] - 137s 823ms/step - loss: 0.0462 - accuracy: 0.9863 - val_loss: 0.0202 - val_accuracy: 0.9931\n",
      "Epoch 157/200\n",
      "167/167 [==============================] - 137s 822ms/step - loss: 0.0461 - accuracy: 0.9865 - val_loss: 0.0249 - val_accuracy: 0.9928\n",
      "Epoch 158/200\n",
      "167/167 [==============================] - 137s 818ms/step - loss: 0.0319 - accuracy: 0.9890 - val_loss: 0.0594 - val_accuracy: 0.9839\n",
      "Epoch 159/200\n",
      "167/167 [==============================] - 138s 824ms/step - loss: 0.0721 - accuracy: 0.9789 - val_loss: 0.0280 - val_accuracy: 0.9910\n",
      "Epoch 160/200\n",
      "167/167 [==============================] - 137s 819ms/step - loss: 0.0549 - accuracy: 0.9828 - val_loss: 0.0315 - val_accuracy: 0.9898\n",
      "Epoch 161/200\n",
      "167/167 [==============================] - 136s 817ms/step - loss: 0.0490 - accuracy: 0.9857 - val_loss: 0.0626 - val_accuracy: 0.9826\n",
      "Epoch 162/200\n",
      "167/167 [==============================] - 138s 825ms/step - loss: 0.0392 - accuracy: 0.9871 - val_loss: 0.0247 - val_accuracy: 0.9913\n",
      "Epoch 163/200\n",
      "167/167 [==============================] - 138s 828ms/step - loss: 0.0565 - accuracy: 0.9819 - val_loss: 0.0804 - val_accuracy: 0.9780\n",
      "Epoch 164/200\n",
      "167/167 [==============================] - 136s 813ms/step - loss: 0.0741 - accuracy: 0.9788 - val_loss: 0.0576 - val_accuracy: 0.9838\n",
      "Epoch 165/200\n",
      "167/167 [==============================] - 136s 813ms/step - loss: 0.0482 - accuracy: 0.9840 - val_loss: 0.0597 - val_accuracy: 0.9815\n",
      "Epoch 166/200\n",
      "167/167 [==============================] - 157s 939ms/step - loss: 0.0378 - accuracy: 0.9876 - val_loss: 0.0557 - val_accuracy: 0.9840\n",
      "Epoch 167/200\n",
      "167/167 [==============================] - 139s 833ms/step - loss: 0.0355 - accuracy: 0.9882 - val_loss: 0.0280 - val_accuracy: 0.9916\n",
      "Epoch 168/200\n",
      "167/167 [==============================] - 140s 840ms/step - loss: 0.0447 - accuracy: 0.9879 - val_loss: 0.0210 - val_accuracy: 0.9934\n",
      "Epoch 169/200\n",
      "167/167 [==============================] - 142s 847ms/step - loss: 0.0492 - accuracy: 0.9849 - val_loss: 0.0334 - val_accuracy: 0.9914\n",
      "Epoch 170/200\n",
      "167/167 [==============================] - 137s 819ms/step - loss: 0.0471 - accuracy: 0.9858 - val_loss: 0.0359 - val_accuracy: 0.9887\n",
      "Epoch 171/200\n",
      "167/167 [==============================] - 137s 821ms/step - loss: 0.0330 - accuracy: 0.9892 - val_loss: 0.0377 - val_accuracy: 0.9897\n",
      "Epoch 172/200\n",
      "167/167 [==============================] - 137s 821ms/step - loss: 0.0526 - accuracy: 0.9846 - val_loss: 0.0382 - val_accuracy: 0.9883\n",
      "Epoch 173/200\n",
      "167/167 [==============================] - 137s 819ms/step - loss: 0.0584 - accuracy: 0.9824 - val_loss: 0.0294 - val_accuracy: 0.9913\n",
      "Epoch 174/200\n",
      "167/167 [==============================] - 136s 815ms/step - loss: 0.0391 - accuracy: 0.9885 - val_loss: 0.0287 - val_accuracy: 0.9919\n",
      "Epoch 175/200\n",
      "167/167 [==============================] - 136s 817ms/step - loss: 0.0499 - accuracy: 0.9847 - val_loss: 0.0489 - val_accuracy: 0.9857\n",
      "Epoch 176/200\n",
      "167/167 [==============================] - 142s 848ms/step - loss: 0.0396 - accuracy: 0.9880 - val_loss: 0.0452 - val_accuracy: 0.9871\n",
      "Epoch 177/200\n",
      "167/167 [==============================] - 141s 841ms/step - loss: 0.0479 - accuracy: 0.9854 - val_loss: 0.0444 - val_accuracy: 0.9872\n",
      "Epoch 178/200\n",
      "167/167 [==============================] - 136s 814ms/step - loss: 0.0539 - accuracy: 0.9832 - val_loss: 0.0277 - val_accuracy: 0.9916\n",
      "Epoch 179/200\n",
      "167/167 [==============================] - 136s 814ms/step - loss: 0.0329 - accuracy: 0.9890 - val_loss: 0.0174 - val_accuracy: 0.9941\n",
      "Epoch 180/200\n",
      "167/167 [==============================] - 137s 818ms/step - loss: 0.0335 - accuracy: 0.9892 - val_loss: 0.0293 - val_accuracy: 0.9913\n",
      "Epoch 181/200\n",
      "167/167 [==============================] - 140s 839ms/step - loss: 0.0369 - accuracy: 0.9882 - val_loss: 0.0189 - val_accuracy: 0.9934\n",
      "Epoch 182/200\n",
      "167/167 [==============================] - 138s 823ms/step - loss: 0.0335 - accuracy: 0.9896 - val_loss: 0.0275 - val_accuracy: 0.9918\n",
      "Epoch 183/200\n",
      "167/167 [==============================] - 137s 820ms/step - loss: 0.0516 - accuracy: 0.9850 - val_loss: 0.0329 - val_accuracy: 0.9900\n",
      "Epoch 184/200\n",
      "167/167 [==============================] - 136s 813ms/step - loss: 0.0447 - accuracy: 0.9870 - val_loss: 0.0459 - val_accuracy: 0.9859\n",
      "Epoch 185/200\n",
      "167/167 [==============================] - 136s 816ms/step - loss: 0.0550 - accuracy: 0.9835 - val_loss: 0.0134 - val_accuracy: 0.9957\n",
      "Epoch 186/200\n",
      "167/167 [==============================] - 135s 811ms/step - loss: 0.0378 - accuracy: 0.9878 - val_loss: 0.0257 - val_accuracy: 0.9921\n",
      "Epoch 187/200\n",
      "167/167 [==============================] - 137s 820ms/step - loss: 0.0482 - accuracy: 0.9861 - val_loss: 0.0186 - val_accuracy: 0.9943\n",
      "Epoch 188/200\n",
      "167/167 [==============================] - 137s 822ms/step - loss: 0.0486 - accuracy: 0.9856 - val_loss: 0.0254 - val_accuracy: 0.9928\n",
      "Epoch 189/200\n",
      "167/167 [==============================] - 143s 855ms/step - loss: 0.0563 - accuracy: 0.9829 - val_loss: 0.0220 - val_accuracy: 0.9930\n",
      "Epoch 190/200\n",
      "167/167 [==============================] - 140s 840ms/step - loss: 0.0363 - accuracy: 0.9877 - val_loss: 0.0135 - val_accuracy: 0.9964\n",
      "Epoch 191/200\n",
      "108/167 [==================>...........] - ETA: 46s - loss: 0.0249 - accuracy: 0.9909"
     ]
    },
    {
     "ename": "",
     "evalue": "",
     "output_type": "error",
     "traceback": [
      "\u001b[1;31mCanceled future for execute_request message before replies were done"
     ]
    },
    {
     "ename": "",
     "evalue": "",
     "output_type": "error",
     "traceback": [
      "\u001b[1;31mThe Kernel crashed while executing code in the the current cell or a previous cell. Please review the code in the cell(s) to identify a possible cause of the failure. Click <a href='https://aka.ms/vscodeJupyterKernelCrash'>here</a> for more info. View Jupyter <a href='command:jupyter.viewOutput'>log</a> for further details."
     ]
    }
   ],
   "source": [
    "model = cnn.fit(training_set, validation_data = test_set, batch_size=70, epochs = 200)"
   ]
  },
  {
   "cell_type": "code",
   "execution_count": 7,
   "metadata": {},
   "outputs": [
    {
     "name": "stdout",
     "output_type": "stream",
     "text": [
      "Weight Created\n"
     ]
    }
   ],
   "source": [
    "path = 'modelbuild.h5'\n",
    "cnn.save(path)\n",
    "print(\"Weight Created\")"
   ]
  },
  {
   "cell_type": "code",
   "execution_count": 3,
   "metadata": {},
   "outputs": [],
   "source": [
    "model=keras.models.load_model('modelbuild19_30e.h5')"
   ]
  },
  {
   "cell_type": "code",
   "execution_count": 4,
   "metadata": {},
   "outputs": [
    {
     "name": "stdout",
     "output_type": "stream",
     "text": [
      "306/306 [==============================] - 95s 308ms/step\n"
     ]
    }
   ],
   "source": [
    "ans=model.predict(test_set)"
   ]
  },
  {
   "cell_type": "code",
   "execution_count": 5,
   "metadata": {},
   "outputs": [
    {
     "name": "stdout",
     "output_type": "stream",
     "text": [
      "[ 4 14 10 ... 16  9  8]\n",
      "Mangosteen\n"
     ]
    }
   ],
   "source": [
    "classIndex=np.argmax(ans,axis=1)\n",
    "print(classIndex)\n",
    "\n",
    "def getName9(classNo):\n",
    "    if   classNo == 0: return 'Apple'\n",
    "    elif classNo == 1: return 'Avocado'\n",
    "    elif classNo == 2: return 'Banana'\n",
    "    elif classNo == 3: return 'Cherry'\n",
    "    elif classNo == 4: return 'Kiwi'\n",
    "    elif classNo == 5: return 'Orange'\n",
    "    elif classNo == 6: return 'Pineapple'\n",
    "    elif classNo == 7: return 'Strawberries'\n",
    "    elif classNo == 8: return 'Watermelon'\n",
    "    else: pass\n",
    "    \n",
    "def getName19(classNo):\n",
    "    if   classNo == 0: return 'Apple'\n",
    "    elif classNo == 1: return 'Avocado'\n",
    "    elif classNo == 2: return 'Banana'\n",
    "    elif classNo == 3: return 'Bell Pepper'\n",
    "    elif classNo == 4: return 'Bitter Gourd'\n",
    "    elif classNo == 5: return 'Blueberry'\n",
    "    elif classNo == 6: return 'Cherry'\n",
    "    elif classNo == 7: return 'Coconut'\n",
    "    elif classNo == 8: return 'Dragonfruit'\n",
    "    elif classNo == 9: return 'Durian'\n",
    "    elif classNo == 10: return 'Eggplant'\n",
    "    elif classNo == 11: return 'Grape'\n",
    "    elif classNo == 12: return 'Kiwi'\n",
    "    elif classNo == 13: return 'Lime'\n",
    "    elif classNo == 14: return 'Mangosteen'\n",
    "    elif classNo == 15: return 'Orange'\n",
    "    elif classNo == 16: return 'Peanut'\n",
    "    elif classNo == 17: return 'Tomato'\n",
    "    elif classNo == 18: return 'Watermelon'\n",
    "    else: pass\n",
    "print(getName19(classIndex[1]))"
   ]
  },
  {
   "cell_type": "code",
   "execution_count": 135,
   "metadata": {},
   "outputs": [
    {
     "data": {
      "text/plain": [
       "75"
      ]
     },
     "execution_count": 135,
     "metadata": {},
     "output_type": "execute_result"
    }
   ],
   "source": [
    "ans.argmax()"
   ]
  },
  {
   "cell_type": "code",
   "execution_count": 10,
   "metadata": {},
   "outputs": [],
   "source": [
    "y=np.concatenate([test_set.next()[1] for i in range(test_set.__len__())])"
   ]
  },
  {
   "cell_type": "code",
   "execution_count": 130,
   "metadata": {},
   "outputs": [
    {
     "data": {
      "text/plain": [
       "(19552, 19)"
      ]
     },
     "execution_count": 130,
     "metadata": {},
     "output_type": "execute_result"
    }
   ],
   "source": [
    "y.shape"
   ]
  },
  {
   "cell_type": "code",
   "execution_count": 8,
   "metadata": {},
   "outputs": [
    {
     "name": "stdout",
     "output_type": "stream",
     "text": [
      "[[0. 0. 0. ... 0. 0. 0.]\n",
      " [0. 0. 0. ... 0. 0. 0.]\n",
      " [0. 0. 0. ... 0. 0. 0.]\n",
      " ...\n",
      " [0. 0. 0. ... 1. 0. 0.]\n",
      " [0. 0. 0. ... 0. 0. 0.]\n",
      " [0. 0. 0. ... 0. 0. 0.]]\n"
     ]
    }
   ],
   "source": [
    "y_pred=np.round(ans)\n",
    "print(y_pred)"
   ]
  },
  {
   "cell_type": "code",
   "execution_count": 16,
   "metadata": {},
   "outputs": [
    {
     "data": {
      "application/javascript": "/* Put everything inside the global mpl namespace */\n/* global mpl */\nwindow.mpl = {};\n\nmpl.get_websocket_type = function () {\n    if (typeof WebSocket !== 'undefined') {\n        return WebSocket;\n    } else if (typeof MozWebSocket !== 'undefined') {\n        return MozWebSocket;\n    } else {\n        alert(\n            'Your browser does not have WebSocket support. ' +\n                'Please try Chrome, Safari or Firefox ≥ 6. ' +\n                'Firefox 4 and 5 are also supported but you ' +\n                'have to enable WebSockets in about:config.'\n        );\n    }\n};\n\nmpl.figure = function (figure_id, websocket, ondownload, parent_element) {\n    this.id = figure_id;\n\n    this.ws = websocket;\n\n    this.supports_binary = this.ws.binaryType !== undefined;\n\n    if (!this.supports_binary) {\n        var warnings = document.getElementById('mpl-warnings');\n        if (warnings) {\n            warnings.style.display = 'block';\n            warnings.textContent =\n                'This browser does not support binary websocket messages. ' +\n                'Performance may be slow.';\n        }\n    }\n\n    this.imageObj = new Image();\n\n    this.context = undefined;\n    this.message = undefined;\n    this.canvas = undefined;\n    this.rubberband_canvas = undefined;\n    this.rubberband_context = undefined;\n    this.format_dropdown = undefined;\n\n    this.image_mode = 'full';\n\n    this.root = document.createElement('div');\n    this.root.setAttribute('style', 'display: inline-block');\n    this._root_extra_style(this.root);\n\n    parent_element.appendChild(this.root);\n\n    this._init_header(this);\n    this._init_canvas(this);\n    this._init_toolbar(this);\n\n    var fig = this;\n\n    this.waiting = false;\n\n    this.ws.onopen = function () {\n        fig.send_message('supports_binary', { value: fig.supports_binary });\n        fig.send_message('send_image_mode', {});\n        if (fig.ratio !== 1) {\n            fig.send_message('set_device_pixel_ratio', {\n                device_pixel_ratio: fig.ratio,\n            });\n        }\n        fig.send_message('refresh', {});\n    };\n\n    this.imageObj.onload = function () {\n        if (fig.image_mode === 'full') {\n            // Full images could contain transparency (where diff images\n            // almost always do), so we need to clear the canvas so that\n            // there is no ghosting.\n            fig.context.clearRect(0, 0, fig.canvas.width, fig.canvas.height);\n        }\n        fig.context.drawImage(fig.imageObj, 0, 0);\n    };\n\n    this.imageObj.onunload = function () {\n        fig.ws.close();\n    };\n\n    this.ws.onmessage = this._make_on_message_function(this);\n\n    this.ondownload = ondownload;\n};\n\nmpl.figure.prototype._init_header = function () {\n    var titlebar = document.createElement('div');\n    titlebar.classList =\n        'ui-dialog-titlebar ui-widget-header ui-corner-all ui-helper-clearfix';\n    var titletext = document.createElement('div');\n    titletext.classList = 'ui-dialog-title';\n    titletext.setAttribute(\n        'style',\n        'width: 100%; text-align: center; padding: 3px;'\n    );\n    titlebar.appendChild(titletext);\n    this.root.appendChild(titlebar);\n    this.header = titletext;\n};\n\nmpl.figure.prototype._canvas_extra_style = function (_canvas_div) {};\n\nmpl.figure.prototype._root_extra_style = function (_canvas_div) {};\n\nmpl.figure.prototype._init_canvas = function () {\n    var fig = this;\n\n    var canvas_div = (this.canvas_div = document.createElement('div'));\n    canvas_div.setAttribute('tabindex', '0');\n    canvas_div.setAttribute(\n        'style',\n        'border: 1px solid #ddd;' +\n            'box-sizing: content-box;' +\n            'clear: both;' +\n            'min-height: 1px;' +\n            'min-width: 1px;' +\n            'outline: 0;' +\n            'overflow: hidden;' +\n            'position: relative;' +\n            'resize: both;' +\n            'z-index: 2;'\n    );\n\n    function on_keyboard_event_closure(name) {\n        return function (event) {\n            return fig.key_event(event, name);\n        };\n    }\n\n    canvas_div.addEventListener(\n        'keydown',\n        on_keyboard_event_closure('key_press')\n    );\n    canvas_div.addEventListener(\n        'keyup',\n        on_keyboard_event_closure('key_release')\n    );\n\n    this._canvas_extra_style(canvas_div);\n    this.root.appendChild(canvas_div);\n\n    var canvas = (this.canvas = document.createElement('canvas'));\n    canvas.classList.add('mpl-canvas');\n    canvas.setAttribute(\n        'style',\n        'box-sizing: content-box;' +\n            'pointer-events: none;' +\n            'position: relative;' +\n            'z-index: 0;'\n    );\n\n    this.context = canvas.getContext('2d');\n\n    var backingStore =\n        this.context.backingStorePixelRatio ||\n        this.context.webkitBackingStorePixelRatio ||\n        this.context.mozBackingStorePixelRatio ||\n        this.context.msBackingStorePixelRatio ||\n        this.context.oBackingStorePixelRatio ||\n        this.context.backingStorePixelRatio ||\n        1;\n\n    this.ratio = (window.devicePixelRatio || 1) / backingStore;\n\n    var rubberband_canvas = (this.rubberband_canvas = document.createElement(\n        'canvas'\n    ));\n    rubberband_canvas.setAttribute(\n        'style',\n        'box-sizing: content-box;' +\n            'left: 0;' +\n            'pointer-events: none;' +\n            'position: absolute;' +\n            'top: 0;' +\n            'z-index: 1;'\n    );\n\n    // Apply a ponyfill if ResizeObserver is not implemented by browser.\n    if (this.ResizeObserver === undefined) {\n        if (window.ResizeObserver !== undefined) {\n            this.ResizeObserver = window.ResizeObserver;\n        } else {\n            var obs = _JSXTOOLS_RESIZE_OBSERVER({});\n            this.ResizeObserver = obs.ResizeObserver;\n        }\n    }\n\n    this.resizeObserverInstance = new this.ResizeObserver(function (entries) {\n        var nentries = entries.length;\n        for (var i = 0; i < nentries; i++) {\n            var entry = entries[i];\n            var width, height;\n            if (entry.contentBoxSize) {\n                if (entry.contentBoxSize instanceof Array) {\n                    // Chrome 84 implements new version of spec.\n                    width = entry.contentBoxSize[0].inlineSize;\n                    height = entry.contentBoxSize[0].blockSize;\n                } else {\n                    // Firefox implements old version of spec.\n                    width = entry.contentBoxSize.inlineSize;\n                    height = entry.contentBoxSize.blockSize;\n                }\n            } else {\n                // Chrome <84 implements even older version of spec.\n                width = entry.contentRect.width;\n                height = entry.contentRect.height;\n            }\n\n            // Keep the size of the canvas and rubber band canvas in sync with\n            // the canvas container.\n            if (entry.devicePixelContentBoxSize) {\n                // Chrome 84 implements new version of spec.\n                canvas.setAttribute(\n                    'width',\n                    entry.devicePixelContentBoxSize[0].inlineSize\n                );\n                canvas.setAttribute(\n                    'height',\n                    entry.devicePixelContentBoxSize[0].blockSize\n                );\n            } else {\n                canvas.setAttribute('width', width * fig.ratio);\n                canvas.setAttribute('height', height * fig.ratio);\n            }\n            /* This rescales the canvas back to display pixels, so that it\n             * appears correct on HiDPI screens. */\n            canvas.style.width = width + 'px';\n            canvas.style.height = height + 'px';\n\n            rubberband_canvas.setAttribute('width', width);\n            rubberband_canvas.setAttribute('height', height);\n\n            // And update the size in Python. We ignore the initial 0/0 size\n            // that occurs as the element is placed into the DOM, which should\n            // otherwise not happen due to the minimum size styling.\n            if (fig.ws.readyState == 1 && width != 0 && height != 0) {\n                fig.request_resize(width, height);\n            }\n        }\n    });\n    this.resizeObserverInstance.observe(canvas_div);\n\n    function on_mouse_event_closure(name) {\n        /* User Agent sniffing is bad, but WebKit is busted:\n         * https://bugs.webkit.org/show_bug.cgi?id=144526\n         * https://bugs.webkit.org/show_bug.cgi?id=181818\n         * The worst that happens here is that they get an extra browser\n         * selection when dragging, if this check fails to catch them.\n         */\n        var UA = navigator.userAgent;\n        var isWebKit = /AppleWebKit/.test(UA) && !/Chrome/.test(UA);\n        if(isWebKit) {\n            return function (event) {\n                /* This prevents the web browser from automatically changing to\n                 * the text insertion cursor when the button is pressed. We\n                 * want to control all of the cursor setting manually through\n                 * the 'cursor' event from matplotlib */\n                event.preventDefault()\n                return fig.mouse_event(event, name);\n            };\n        } else {\n            return function (event) {\n                return fig.mouse_event(event, name);\n            };\n        }\n    }\n\n    canvas_div.addEventListener(\n        'mousedown',\n        on_mouse_event_closure('button_press')\n    );\n    canvas_div.addEventListener(\n        'mouseup',\n        on_mouse_event_closure('button_release')\n    );\n    canvas_div.addEventListener(\n        'dblclick',\n        on_mouse_event_closure('dblclick')\n    );\n    // Throttle sequential mouse events to 1 every 20ms.\n    canvas_div.addEventListener(\n        'mousemove',\n        on_mouse_event_closure('motion_notify')\n    );\n\n    canvas_div.addEventListener(\n        'mouseenter',\n        on_mouse_event_closure('figure_enter')\n    );\n    canvas_div.addEventListener(\n        'mouseleave',\n        on_mouse_event_closure('figure_leave')\n    );\n\n    canvas_div.addEventListener('wheel', function (event) {\n        if (event.deltaY < 0) {\n            event.step = 1;\n        } else {\n            event.step = -1;\n        }\n        on_mouse_event_closure('scroll')(event);\n    });\n\n    canvas_div.appendChild(canvas);\n    canvas_div.appendChild(rubberband_canvas);\n\n    this.rubberband_context = rubberband_canvas.getContext('2d');\n    this.rubberband_context.strokeStyle = '#000000';\n\n    this._resize_canvas = function (width, height, forward) {\n        if (forward) {\n            canvas_div.style.width = width + 'px';\n            canvas_div.style.height = height + 'px';\n        }\n    };\n\n    // Disable right mouse context menu.\n    canvas_div.addEventListener('contextmenu', function (_e) {\n        event.preventDefault();\n        return false;\n    });\n\n    function set_focus() {\n        canvas.focus();\n        canvas_div.focus();\n    }\n\n    window.setTimeout(set_focus, 100);\n};\n\nmpl.figure.prototype._init_toolbar = function () {\n    var fig = this;\n\n    var toolbar = document.createElement('div');\n    toolbar.classList = 'mpl-toolbar';\n    this.root.appendChild(toolbar);\n\n    function on_click_closure(name) {\n        return function (_event) {\n            return fig.toolbar_button_onclick(name);\n        };\n    }\n\n    function on_mouseover_closure(tooltip) {\n        return function (event) {\n            if (!event.currentTarget.disabled) {\n                return fig.toolbar_button_onmouseover(tooltip);\n            }\n        };\n    }\n\n    fig.buttons = {};\n    var buttonGroup = document.createElement('div');\n    buttonGroup.classList = 'mpl-button-group';\n    for (var toolbar_ind in mpl.toolbar_items) {\n        var name = mpl.toolbar_items[toolbar_ind][0];\n        var tooltip = mpl.toolbar_items[toolbar_ind][1];\n        var image = mpl.toolbar_items[toolbar_ind][2];\n        var method_name = mpl.toolbar_items[toolbar_ind][3];\n\n        if (!name) {\n            /* Instead of a spacer, we start a new button group. */\n            if (buttonGroup.hasChildNodes()) {\n                toolbar.appendChild(buttonGroup);\n            }\n            buttonGroup = document.createElement('div');\n            buttonGroup.classList = 'mpl-button-group';\n            continue;\n        }\n\n        var button = (fig.buttons[name] = document.createElement('button'));\n        button.classList = 'mpl-widget';\n        button.setAttribute('role', 'button');\n        button.setAttribute('aria-disabled', 'false');\n        button.addEventListener('click', on_click_closure(method_name));\n        button.addEventListener('mouseover', on_mouseover_closure(tooltip));\n\n        var icon_img = document.createElement('img');\n        icon_img.src = '_images/' + image + '.png';\n        icon_img.srcset = '_images/' + image + '_large.png 2x';\n        icon_img.alt = tooltip;\n        button.appendChild(icon_img);\n\n        buttonGroup.appendChild(button);\n    }\n\n    if (buttonGroup.hasChildNodes()) {\n        toolbar.appendChild(buttonGroup);\n    }\n\n    var fmt_picker = document.createElement('select');\n    fmt_picker.classList = 'mpl-widget';\n    toolbar.appendChild(fmt_picker);\n    this.format_dropdown = fmt_picker;\n\n    for (var ind in mpl.extensions) {\n        var fmt = mpl.extensions[ind];\n        var option = document.createElement('option');\n        option.selected = fmt === mpl.default_extension;\n        option.innerHTML = fmt;\n        fmt_picker.appendChild(option);\n    }\n\n    var status_bar = document.createElement('span');\n    status_bar.classList = 'mpl-message';\n    toolbar.appendChild(status_bar);\n    this.message = status_bar;\n};\n\nmpl.figure.prototype.request_resize = function (x_pixels, y_pixels) {\n    // Request matplotlib to resize the figure. Matplotlib will then trigger a resize in the client,\n    // which will in turn request a refresh of the image.\n    this.send_message('resize', { width: x_pixels, height: y_pixels });\n};\n\nmpl.figure.prototype.send_message = function (type, properties) {\n    properties['type'] = type;\n    properties['figure_id'] = this.id;\n    this.ws.send(JSON.stringify(properties));\n};\n\nmpl.figure.prototype.send_draw_message = function () {\n    if (!this.waiting) {\n        this.waiting = true;\n        this.ws.send(JSON.stringify({ type: 'draw', figure_id: this.id }));\n    }\n};\n\nmpl.figure.prototype.handle_save = function (fig, _msg) {\n    var format_dropdown = fig.format_dropdown;\n    var format = format_dropdown.options[format_dropdown.selectedIndex].value;\n    fig.ondownload(fig, format);\n};\n\nmpl.figure.prototype.handle_resize = function (fig, msg) {\n    var size = msg['size'];\n    if (size[0] !== fig.canvas.width || size[1] !== fig.canvas.height) {\n        fig._resize_canvas(size[0], size[1], msg['forward']);\n        fig.send_message('refresh', {});\n    }\n};\n\nmpl.figure.prototype.handle_rubberband = function (fig, msg) {\n    var x0 = msg['x0'] / fig.ratio;\n    var y0 = (fig.canvas.height - msg['y0']) / fig.ratio;\n    var x1 = msg['x1'] / fig.ratio;\n    var y1 = (fig.canvas.height - msg['y1']) / fig.ratio;\n    x0 = Math.floor(x0) + 0.5;\n    y0 = Math.floor(y0) + 0.5;\n    x1 = Math.floor(x1) + 0.5;\n    y1 = Math.floor(y1) + 0.5;\n    var min_x = Math.min(x0, x1);\n    var min_y = Math.min(y0, y1);\n    var width = Math.abs(x1 - x0);\n    var height = Math.abs(y1 - y0);\n\n    fig.rubberband_context.clearRect(\n        0,\n        0,\n        fig.canvas.width / fig.ratio,\n        fig.canvas.height / fig.ratio\n    );\n\n    fig.rubberband_context.strokeRect(min_x, min_y, width, height);\n};\n\nmpl.figure.prototype.handle_figure_label = function (fig, msg) {\n    // Updates the figure title.\n    fig.header.textContent = msg['label'];\n};\n\nmpl.figure.prototype.handle_cursor = function (fig, msg) {\n    fig.canvas_div.style.cursor = msg['cursor'];\n};\n\nmpl.figure.prototype.handle_message = function (fig, msg) {\n    fig.message.textContent = msg['message'];\n};\n\nmpl.figure.prototype.handle_draw = function (fig, _msg) {\n    // Request the server to send over a new figure.\n    fig.send_draw_message();\n};\n\nmpl.figure.prototype.handle_image_mode = function (fig, msg) {\n    fig.image_mode = msg['mode'];\n};\n\nmpl.figure.prototype.handle_history_buttons = function (fig, msg) {\n    for (var key in msg) {\n        if (!(key in fig.buttons)) {\n            continue;\n        }\n        fig.buttons[key].disabled = !msg[key];\n        fig.buttons[key].setAttribute('aria-disabled', !msg[key]);\n    }\n};\n\nmpl.figure.prototype.handle_navigate_mode = function (fig, msg) {\n    if (msg['mode'] === 'PAN') {\n        fig.buttons['Pan'].classList.add('active');\n        fig.buttons['Zoom'].classList.remove('active');\n    } else if (msg['mode'] === 'ZOOM') {\n        fig.buttons['Pan'].classList.remove('active');\n        fig.buttons['Zoom'].classList.add('active');\n    } else {\n        fig.buttons['Pan'].classList.remove('active');\n        fig.buttons['Zoom'].classList.remove('active');\n    }\n};\n\nmpl.figure.prototype.updated_canvas_event = function () {\n    // Called whenever the canvas gets updated.\n    this.send_message('ack', {});\n};\n\n// A function to construct a web socket function for onmessage handling.\n// Called in the figure constructor.\nmpl.figure.prototype._make_on_message_function = function (fig) {\n    return function socket_on_message(evt) {\n        if (evt.data instanceof Blob) {\n            var img = evt.data;\n            if (img.type !== 'image/png') {\n                /* FIXME: We get \"Resource interpreted as Image but\n                 * transferred with MIME type text/plain:\" errors on\n                 * Chrome.  But how to set the MIME type?  It doesn't seem\n                 * to be part of the websocket stream */\n                img.type = 'image/png';\n            }\n\n            /* Free the memory for the previous frames */\n            if (fig.imageObj.src) {\n                (window.URL || window.webkitURL).revokeObjectURL(\n                    fig.imageObj.src\n                );\n            }\n\n            fig.imageObj.src = (window.URL || window.webkitURL).createObjectURL(\n                img\n            );\n            fig.updated_canvas_event();\n            fig.waiting = false;\n            return;\n        } else if (\n            typeof evt.data === 'string' &&\n            evt.data.slice(0, 21) === 'data:image/png;base64'\n        ) {\n            fig.imageObj.src = evt.data;\n            fig.updated_canvas_event();\n            fig.waiting = false;\n            return;\n        }\n\n        var msg = JSON.parse(evt.data);\n        var msg_type = msg['type'];\n\n        // Call the  \"handle_{type}\" callback, which takes\n        // the figure and JSON message as its only arguments.\n        try {\n            var callback = fig['handle_' + msg_type];\n        } catch (e) {\n            console.log(\n                \"No handler for the '\" + msg_type + \"' message type: \",\n                msg\n            );\n            return;\n        }\n\n        if (callback) {\n            try {\n                // console.log(\"Handling '\" + msg_type + \"' message: \", msg);\n                callback(fig, msg);\n            } catch (e) {\n                console.log(\n                    \"Exception inside the 'handler_\" + msg_type + \"' callback:\",\n                    e,\n                    e.stack,\n                    msg\n                );\n            }\n        }\n    };\n};\n\n\n/*\n * return a copy of an object with only non-object keys\n * we need this to avoid circular references\n * https://stackoverflow.com/a/24161582/3208463\n */\nfunction simpleKeys(original) {\n    return Object.keys(original).reduce(function (obj, key) {\n        if (typeof original[key] !== 'object') {\n            obj[key] = original[key];\n        }\n        return obj;\n    }, {});\n}\n\nmpl.figure.prototype.mouse_event = function (event, name) {\n    if (name === 'button_press') {\n        this.canvas.focus();\n        this.canvas_div.focus();\n    }\n\n    // from https://stackoverflow.com/q/1114465\n    var boundingRect = this.canvas.getBoundingClientRect();\n    var x = (event.clientX - boundingRect.left) * this.ratio;\n    var y = (event.clientY - boundingRect.top) * this.ratio;\n\n    this.send_message(name, {\n        x: x,\n        y: y,\n        button: event.button,\n        step: event.step,\n        guiEvent: simpleKeys(event),\n    });\n\n    return false;\n};\n\nmpl.figure.prototype._key_event_extra = function (_event, _name) {\n    // Handle any extra behaviour associated with a key event\n};\n\nmpl.figure.prototype.key_event = function (event, name) {\n    // Prevent repeat events\n    if (name === 'key_press') {\n        if (event.key === this._key) {\n            return;\n        } else {\n            this._key = event.key;\n        }\n    }\n    if (name === 'key_release') {\n        this._key = null;\n    }\n\n    var value = '';\n    if (event.ctrlKey && event.key !== 'Control') {\n        value += 'ctrl+';\n    }\n    else if (event.altKey && event.key !== 'Alt') {\n        value += 'alt+';\n    }\n    else if (event.shiftKey && event.key !== 'Shift') {\n        value += 'shift+';\n    }\n\n    value += 'k' + event.key;\n\n    this._key_event_extra(event, name);\n\n    this.send_message(name, { key: value, guiEvent: simpleKeys(event) });\n    return false;\n};\n\nmpl.figure.prototype.toolbar_button_onclick = function (name) {\n    if (name === 'download') {\n        this.handle_save(this, null);\n    } else {\n        this.send_message('toolbar_button', { name: name });\n    }\n};\n\nmpl.figure.prototype.toolbar_button_onmouseover = function (tooltip) {\n    this.message.textContent = tooltip;\n};\n\n///////////////// REMAINING CONTENT GENERATED BY embed_js.py /////////////////\n// prettier-ignore\nvar _JSXTOOLS_RESIZE_OBSERVER=function(A){var t,i=new WeakMap,n=new WeakMap,a=new WeakMap,r=new WeakMap,o=new Set;function s(e){if(!(this instanceof s))throw new TypeError(\"Constructor requires 'new' operator\");i.set(this,e)}function h(){throw new TypeError(\"Function is not a constructor\")}function c(e,t,i,n){e=0 in arguments?Number(arguments[0]):0,t=1 in arguments?Number(arguments[1]):0,i=2 in arguments?Number(arguments[2]):0,n=3 in arguments?Number(arguments[3]):0,this.right=(this.x=this.left=e)+(this.width=i),this.bottom=(this.y=this.top=t)+(this.height=n),Object.freeze(this)}function d(){t=requestAnimationFrame(d);var s=new WeakMap,p=new Set;o.forEach((function(t){r.get(t).forEach((function(i){var r=t instanceof window.SVGElement,o=a.get(t),d=r?0:parseFloat(o.paddingTop),f=r?0:parseFloat(o.paddingRight),l=r?0:parseFloat(o.paddingBottom),u=r?0:parseFloat(o.paddingLeft),g=r?0:parseFloat(o.borderTopWidth),m=r?0:parseFloat(o.borderRightWidth),w=r?0:parseFloat(o.borderBottomWidth),b=u+f,F=d+l,v=(r?0:parseFloat(o.borderLeftWidth))+m,W=g+w,y=r?0:t.offsetHeight-W-t.clientHeight,E=r?0:t.offsetWidth-v-t.clientWidth,R=b+v,z=F+W,M=r?t.width:parseFloat(o.width)-R-E,O=r?t.height:parseFloat(o.height)-z-y;if(n.has(t)){var k=n.get(t);if(k[0]===M&&k[1]===O)return}n.set(t,[M,O]);var S=Object.create(h.prototype);S.target=t,S.contentRect=new c(u,d,M,O),s.has(i)||(s.set(i,[]),p.add(i)),s.get(i).push(S)}))})),p.forEach((function(e){i.get(e).call(e,s.get(e),e)}))}return s.prototype.observe=function(i){if(i instanceof window.Element){r.has(i)||(r.set(i,new Set),o.add(i),a.set(i,window.getComputedStyle(i)));var n=r.get(i);n.has(this)||n.add(this),cancelAnimationFrame(t),t=requestAnimationFrame(d)}},s.prototype.unobserve=function(i){if(i instanceof window.Element&&r.has(i)){var n=r.get(i);n.has(this)&&(n.delete(this),n.size||(r.delete(i),o.delete(i))),n.size||r.delete(i),o.size||cancelAnimationFrame(t)}},A.DOMRectReadOnly=c,A.ResizeObserver=s,A.ResizeObserverEntry=h,A}; // eslint-disable-line\nmpl.toolbar_items = [[\"Home\", \"Reset original view\", \"fa fa-home\", \"home\"], [\"Back\", \"Back to previous view\", \"fa fa-arrow-left\", \"back\"], [\"Forward\", \"Forward to next view\", \"fa fa-arrow-right\", \"forward\"], [\"\", \"\", \"\", \"\"], [\"Pan\", \"Left button pans, Right button zooms\\nx/y fixes axis, CTRL fixes aspect\", \"fa fa-arrows\", \"pan\"], [\"Zoom\", \"Zoom to rectangle\\nx/y fixes axis\", \"fa fa-square-o\", \"zoom\"], [\"\", \"\", \"\", \"\"], [\"Download\", \"Download plot\", \"fa fa-floppy-o\", \"download\"]];\n\nmpl.extensions = [\"eps\", \"jpeg\", \"pgf\", \"pdf\", \"png\", \"ps\", \"raw\", \"svg\", \"tif\", \"webp\"];\n\nmpl.default_extension = \"png\";/* global mpl */\n\nvar comm_websocket_adapter = function (comm) {\n    // Create a \"websocket\"-like object which calls the given IPython comm\n    // object with the appropriate methods. Currently this is a non binary\n    // socket, so there is still some room for performance tuning.\n    var ws = {};\n\n    ws.binaryType = comm.kernel.ws.binaryType;\n    ws.readyState = comm.kernel.ws.readyState;\n    function updateReadyState(_event) {\n        if (comm.kernel.ws) {\n            ws.readyState = comm.kernel.ws.readyState;\n        } else {\n            ws.readyState = 3; // Closed state.\n        }\n    }\n    comm.kernel.ws.addEventListener('open', updateReadyState);\n    comm.kernel.ws.addEventListener('close', updateReadyState);\n    comm.kernel.ws.addEventListener('error', updateReadyState);\n\n    ws.close = function () {\n        comm.close();\n    };\n    ws.send = function (m) {\n        //console.log('sending', m);\n        comm.send(m);\n    };\n    // Register the callback with on_msg.\n    comm.on_msg(function (msg) {\n        //console.log('receiving', msg['content']['data'], msg);\n        var data = msg['content']['data'];\n        if (data['blob'] !== undefined) {\n            data = {\n                data: new Blob(msg['buffers'], { type: data['blob'] }),\n            };\n        }\n        // Pass the mpl event to the overridden (by mpl) onmessage function.\n        ws.onmessage(data);\n    });\n    return ws;\n};\n\nmpl.mpl_figure_comm = function (comm, msg) {\n    // This is the function which gets called when the mpl process\n    // starts-up an IPython Comm through the \"matplotlib\" channel.\n\n    var id = msg.content.data.id;\n    // Get hold of the div created by the display call when the Comm\n    // socket was opened in Python.\n    var element = document.getElementById(id);\n    var ws_proxy = comm_websocket_adapter(comm);\n\n    function ondownload(figure, _format) {\n        window.open(figure.canvas.toDataURL());\n    }\n\n    var fig = new mpl.figure(id, ws_proxy, ondownload, element);\n\n    // Call onopen now - mpl needs it, as it is assuming we've passed it a real\n    // web socket which is closed, not our websocket->open comm proxy.\n    ws_proxy.onopen();\n\n    fig.parent_element = element;\n    fig.cell_info = mpl.find_output_cell(\"<div id='\" + id + \"'></div>\");\n    if (!fig.cell_info) {\n        console.error('Failed to find cell for figure', id, fig);\n        return;\n    }\n    fig.cell_info[0].output_area.element.on(\n        'cleared',\n        { fig: fig },\n        fig._remove_fig_handler\n    );\n};\n\nmpl.figure.prototype.handle_close = function (fig, msg) {\n    var width = fig.canvas.width / fig.ratio;\n    fig.cell_info[0].output_area.element.off(\n        'cleared',\n        fig._remove_fig_handler\n    );\n    fig.resizeObserverInstance.unobserve(fig.canvas_div);\n\n    // Update the output cell to use the data from the current canvas.\n    fig.push_to_output();\n    var dataURL = fig.canvas.toDataURL();\n    // Re-enable the keyboard manager in IPython - without this line, in FF,\n    // the notebook keyboard shortcuts fail.\n    IPython.keyboard_manager.enable();\n    fig.parent_element.innerHTML =\n        '<img src=\"' + dataURL + '\" width=\"' + width + '\">';\n    fig.close_ws(fig, msg);\n};\n\nmpl.figure.prototype.close_ws = function (fig, msg) {\n    fig.send_message('closing', msg);\n    // fig.ws.close()\n};\n\nmpl.figure.prototype.push_to_output = function (_remove_interactive) {\n    // Turn the data on the canvas into data in the output cell.\n    var width = this.canvas.width / this.ratio;\n    var dataURL = this.canvas.toDataURL();\n    this.cell_info[1]['text/html'] =\n        '<img src=\"' + dataURL + '\" width=\"' + width + '\">';\n};\n\nmpl.figure.prototype.updated_canvas_event = function () {\n    // Tell IPython that the notebook contents must change.\n    IPython.notebook.set_dirty(true);\n    this.send_message('ack', {});\n    var fig = this;\n    // Wait a second, then push the new image to the DOM so\n    // that it is saved nicely (might be nice to debounce this).\n    setTimeout(function () {\n        fig.push_to_output();\n    }, 1000);\n};\n\nmpl.figure.prototype._init_toolbar = function () {\n    var fig = this;\n\n    var toolbar = document.createElement('div');\n    toolbar.classList = 'btn-toolbar';\n    this.root.appendChild(toolbar);\n\n    function on_click_closure(name) {\n        return function (_event) {\n            return fig.toolbar_button_onclick(name);\n        };\n    }\n\n    function on_mouseover_closure(tooltip) {\n        return function (event) {\n            if (!event.currentTarget.disabled) {\n                return fig.toolbar_button_onmouseover(tooltip);\n            }\n        };\n    }\n\n    fig.buttons = {};\n    var buttonGroup = document.createElement('div');\n    buttonGroup.classList = 'btn-group';\n    var button;\n    for (var toolbar_ind in mpl.toolbar_items) {\n        var name = mpl.toolbar_items[toolbar_ind][0];\n        var tooltip = mpl.toolbar_items[toolbar_ind][1];\n        var image = mpl.toolbar_items[toolbar_ind][2];\n        var method_name = mpl.toolbar_items[toolbar_ind][3];\n\n        if (!name) {\n            /* Instead of a spacer, we start a new button group. */\n            if (buttonGroup.hasChildNodes()) {\n                toolbar.appendChild(buttonGroup);\n            }\n            buttonGroup = document.createElement('div');\n            buttonGroup.classList = 'btn-group';\n            continue;\n        }\n\n        button = fig.buttons[name] = document.createElement('button');\n        button.classList = 'btn btn-default';\n        button.href = '#';\n        button.title = name;\n        button.innerHTML = '<i class=\"fa ' + image + ' fa-lg\"></i>';\n        button.addEventListener('click', on_click_closure(method_name));\n        button.addEventListener('mouseover', on_mouseover_closure(tooltip));\n        buttonGroup.appendChild(button);\n    }\n\n    if (buttonGroup.hasChildNodes()) {\n        toolbar.appendChild(buttonGroup);\n    }\n\n    // Add the status bar.\n    var status_bar = document.createElement('span');\n    status_bar.classList = 'mpl-message pull-right';\n    toolbar.appendChild(status_bar);\n    this.message = status_bar;\n\n    // Add the close button to the window.\n    var buttongrp = document.createElement('div');\n    buttongrp.classList = 'btn-group inline pull-right';\n    button = document.createElement('button');\n    button.classList = 'btn btn-mini btn-primary';\n    button.href = '#';\n    button.title = 'Stop Interaction';\n    button.innerHTML = '<i class=\"fa fa-power-off icon-remove icon-large\"></i>';\n    button.addEventListener('click', function (_evt) {\n        fig.handle_close(fig, {});\n    });\n    button.addEventListener(\n        'mouseover',\n        on_mouseover_closure('Stop Interaction')\n    );\n    buttongrp.appendChild(button);\n    var titlebar = this.root.querySelector('.ui-dialog-titlebar');\n    titlebar.insertBefore(buttongrp, titlebar.firstChild);\n};\n\nmpl.figure.prototype._remove_fig_handler = function (event) {\n    var fig = event.data.fig;\n    if (event.target !== this) {\n        // Ignore bubbled events from children.\n        return;\n    }\n    fig.close_ws(fig, {});\n};\n\nmpl.figure.prototype._root_extra_style = function (el) {\n    el.style.boxSizing = 'content-box'; // override notebook setting of border-box.\n};\n\nmpl.figure.prototype._canvas_extra_style = function (el) {\n    // this is important to make the div 'focusable\n    el.setAttribute('tabindex', 0);\n    // reach out to IPython and tell the keyboard manager to turn it's self\n    // off when our div gets focus\n\n    // location in version 3\n    if (IPython.notebook.keyboard_manager) {\n        IPython.notebook.keyboard_manager.register_events(el);\n    } else {\n        // location in version 2\n        IPython.keyboard_manager.register_events(el);\n    }\n};\n\nmpl.figure.prototype._key_event_extra = function (event, _name) {\n    // Check for shift+enter\n    if (event.shiftKey && event.which === 13) {\n        this.canvas_div.blur();\n        // select the cell after this one\n        var index = IPython.notebook.find_cell_index(this.cell_info[0]);\n        IPython.notebook.select(index + 1);\n    }\n};\n\nmpl.figure.prototype.handle_save = function (fig, _msg) {\n    fig.ondownload(fig, null);\n};\n\nmpl.find_output_cell = function (html_output) {\n    // Return the cell and output element which can be found *uniquely* in the notebook.\n    // Note - this is a bit hacky, but it is done because the \"notebook_saving.Notebook\"\n    // IPython event is triggered only after the cells have been serialised, which for\n    // our purposes (turning an active figure into a static one), is too late.\n    var cells = IPython.notebook.get_cells();\n    var ncells = cells.length;\n    for (var i = 0; i < ncells; i++) {\n        var cell = cells[i];\n        if (cell.cell_type === 'code') {\n            for (var j = 0; j < cell.output_area.outputs.length; j++) {\n                var data = cell.output_area.outputs[j];\n                if (data.data) {\n                    // IPython >= 3 moved mimebundle to data attribute of output\n                    data = data.data;\n                }\n                if (data['text/html'] === html_output) {\n                    return [cell, data, j];\n                }\n            }\n        }\n    }\n};\n\n// Register the function which deals with the matplotlib target/channel.\n// The kernel may be null if the page has been refreshed.\nif (IPython.notebook.kernel !== null) {\n    IPython.notebook.kernel.comm_manager.register_target(\n        'matplotlib',\n        mpl.mpl_figure_comm\n    );\n}\n",
      "text/plain": [
       "<IPython.core.display.Javascript object>"
      ]
     },
     "metadata": {},
     "output_type": "display_data"
    },
    {
     "data": {
      "text/html": [
       "<div id='94315d67-6864-4007-b87b-272a0be3beb5'></div>"
      ],
      "text/plain": [
       "<IPython.core.display.HTML object>"
      ]
     },
     "metadata": {},
     "output_type": "display_data"
    }
   ],
   "source": [
    "%matplotlib notebook\n",
    "\n",
    "labels9 = ['Apple','Avocado','Banana','Cherry','Kiwi','Orange','Pineapple','Strawberries','Watermelon']\n",
    "labels19 = [\n",
    "    'Apple',\n",
    "    'Avocado',\n",
    "    'Banana',\n",
    "    'Bell Pepper',\n",
    "    'Bitter Gourd',\n",
    "    'Blueberry',\n",
    "    'Cherry',\n",
    "    'Coconut',\n",
    "    'Dragonfruit',\n",
    "    'Durian',\n",
    "    'Eggplant',\n",
    "    'Grape',\n",
    "    'Kiwi',\n",
    "    'Lime',\n",
    "    'Mangosteen',\n",
    "    'Orange',\n",
    "    'Peanut',\n",
    "    'Tomato',\n",
    "    'Watermelon'\n",
    "    ]\n",
    "cm=confusion_matrix(y_true=y.argmax(axis=1),y_pred=y_pred.argmax(axis=1),normalize='true')\n",
    "disp=ConfusionMatrixDisplay(cm,display_labels=labels19)\n",
    "fig, ax = plt.subplots(figsize=(16,9))\n",
    "disp.plot(ax=ax,xticks_rotation=45,cmap=plt.cm.Blues)\n",
    "plt.savefig('cm19c30e5_temp.png')\n",
    "plt.show()"
   ]
  },
  {
   "cell_type": "code",
   "execution_count": 17,
   "metadata": {},
   "outputs": [
    {
     "data": {
      "text/plain": [
       "array([0.05901912, 0.05474765, 0.06712565, 0.038     , 0.05106778,\n",
       "       0.04690619, 0.05084746, 0.04492188, 0.04830918, 0.06822612,\n",
       "       0.04940711, 0.04453049, 0.05841584, 0.03861386, 0.05067873,\n",
       "       0.04263094, 0.0462963 , 0.049     , 0.05220884])"
      ]
     },
     "execution_count": 17,
     "metadata": {},
     "output_type": "execute_result"
    }
   ],
   "source": [
    "np.diag(cm)"
   ]
  },
  {
   "cell_type": "code",
   "execution_count": 24,
   "metadata": {},
   "outputs": [
    {
     "name": "stdout",
     "output_type": "stream",
     "text": [
      "{'apple': 0, 'avocado': 1, 'banana': 2, 'bell pepper': 3, 'bitter gourd': 4, 'blueberry': 5, 'cherry': 6, 'coconut': 7, 'dragonfruit': 8, 'durian': 9, 'eggplant': 10, 'grape': 11, 'kiwi': 12, 'lime': 13, 'mangosteen': 14, 'orange': 15, 'peanut': 16, 'tomato': 17, 'watermelon': 18}\n"
     ]
    }
   ],
   "source": [
    "print(training_set.class_indices)"
   ]
  }
 ],
 "metadata": {
  "kernelspec": {
   "display_name": "Python 3",
   "language": "python",
   "name": "python3"
  },
  "language_info": {
   "codemirror_mode": {
    "name": "ipython",
    "version": 3
   },
   "file_extension": ".py",
   "mimetype": "text/x-python",
   "name": "python",
   "nbconvert_exporter": "python",
   "pygments_lexer": "ipython3",
   "version": "3.9.13"
  },
  "orig_nbformat": 4,
  "vscode": {
   "interpreter": {
    "hash": "0a9689621fcd1dbd612610a72dd642d34fe152562c1e92326803dec07427950a"
   }
  }
 },
 "nbformat": 4,
 "nbformat_minor": 2
}
